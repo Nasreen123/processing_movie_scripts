{
 "cells": [
  {
   "cell_type": "code",
   "execution_count": 1,
   "metadata": {
    "collapsed": false,
    "deletable": true,
    "editable": true
   },
   "outputs": [],
   "source": [
    "import csv, string\n",
    "from urllib import urlopen\n",
    "from nltk.corpus import stopwords as stopwords\n",
    "\n",
    "\n",
    "# Movie script urls:\n",
    "urls = [\"http://e-card.51.net/movie.scripts/Harry.Potter/Harry-Potter-and-the-Chamber-of-Secrets.htm\",\n",
    "\"http://e-card.51.net/movie.scripts/Harry.Potter/Harry-Potter-and-the-Prisoner-of-Azkaban.htm\",\n",
    "\"http://e-card.51.net/movie.scripts/Harry.Potter/Harry-Potter-and-the-Goblet-of-Fire.htm\"]\n",
    "\n",
    "characters = [\n",
    "[\"aragog\"],\n",
    "[\"filch\", \"argus filch\"],\n",
    "[\"colin\", \"colin creevey\"],   \n",
    "[\"dobby\"],\n",
    "[\"draco\"],\n",
    "[\"ginny\"],\n",
    "[\"harry\"],\n",
    "[\"hermione\"],\n",
    "[\"lucious malfoy\"],\n",
    "[\"madam pomfrey\"],\n",
    "[\"moaning myrtle\"],\n",
    "[\"mr. borgin\"],\n",
    "[\"wood\"],\n",
    "[\"dumbledore\", \"albus dumbledore\"],\n",
    "[\"gilderoy lockhart\", \"gilderoy\", \"lockhard\"],\n",
    "[\"ron\"],\n",
    "[\"hagrid\", \"rubeus hagrid\"],\n",
    "[\"snape\", \"severus snape\"],\n",
    "[\"tom riddle\", \"tom malvoro riddle\"],\n",
    "[\"professor mcgonagall\"]\n",
    "]\n",
    "\n",
    "\n",
    "    "
   ]
  },
  {
   "cell_type": "code",
   "execution_count": 18,
   "metadata": {
    "collapsed": false,
    "deletable": true,
    "editable": true
   },
   "outputs": [],
   "source": [
    "#Character to keep track of each character instance while counting that character instances words\n",
    "class Character:\n",
    "    def __init__(self, names, movie_number):\n",
    "        self.names = names\n",
    "        self.lines = []\n",
    "        self.word_count = 0\n",
    "        self.movie = 'hp' + str(movie_number)\n",
    "        self.words = \"\"\n",
    "        self.prepared_text = \"\"\n",
    "        \n",
    "    def add_line(self, line):\n",
    "        line_list = line.split(' ')\n",
    "        self.lines.append(line_list)\n",
    "    \n",
    "    def save_lines_in_csv(self):\n",
    "        file_name = self.movie + self.names[0] + '.csv'\n",
    "        dictionary = {'movie': self.movie, 'character': self.names[0], 'lines': self.lines}\n",
    "        with open('csvwordslines/' + file_name, 'w') as f:\n",
    "            writer = csv.writer(f)\n",
    "            writer.writerows([line.split(',') for line in self.lines]) \n",
    "    \n",
    "    def get_wordcount_and_string_all_words(self):\n",
    "        for line in self.lines:\n",
    "            self.words = self.words + \" \" + line\n",
    "        self.word_count = len(self.words)  \n",
    "            \n",
    "    def process_words(self):\n",
    "        stop_words = stopwords.words('english')\n",
    "        words = self.words.translate(None, string.punctuation)\n",
    "        split_words = words.split()\n",
    "        word_list = [word.lower() for word in split_words if word.lower() not in stop_words]\n",
    "        for word in word_list:\n",
    "            self.prepared_text = self.prepared_text + \" \" + word\n",
    "        \n",
    "        \n"
   ]
  },
  {
   "cell_type": "code",
   "execution_count": 19,
   "metadata": {
    "collapsed": true,
    "deletable": true,
    "editable": true
   },
   "outputs": [],
   "source": [
    "class MovieScript():\n",
    "    def __init__(self, url, movie_number):\n",
    "        self.url = url\n",
    "        self.movie_number = movie_number\n",
    "        self.script = \"\"\n",
    "        self.lines = []\n",
    "        \n",
    "    def get_script(self):\n",
    "        from urllib import urlopen\n",
    "        whole_page = urlopen(self.url).read()\n",
    "        start = whole_page.find(\"<pre>\")\n",
    "        end = whole_page.find(\"</pre>\")\n",
    "        self.script = whole_page[start:end]\n",
    "        \n",
    "    \n",
    "    def remove_brackets(self, line): \n",
    "        if \"(\" in line and \")\" in line:\n",
    "            openb = line.find(\"(\")\n",
    "            closeb = line.find(\")\") + 1\n",
    "        elif \")\" in line:\n",
    "            closeb = line.find(\")\") + 1\n",
    "            openb = 0\n",
    "        elif \"(\" in line:\n",
    "            openb = line.find(\"(\")\n",
    "            closeb = len(line)\n",
    "        else:\n",
    "            openb = 0\n",
    "            closeb = 0\n",
    "        new_line = line[:openb] + line[closeb:]\n",
    "        return new_line\n",
    "    \n",
    "    def get_lines(self):\n",
    "        \n",
    "        pre_lines = self.script.split(\"\\n\")\n",
    "        remove = [\"<pre>\", \"\\r\", \"<b>\", \"</b>\", \"</pre>\", \"VOICE OF\", \"VOICE\", \"CONTINUED:\"]\n",
    "        for line in pre_lines:\n",
    "            new_line = self.remove_brackets(line)\n",
    "            for item in remove:\n",
    "                new_line = new_line.replace(item, \"\", 10000).strip()\n",
    "            if len(new_line.strip()) != 0:\n",
    "                self.lines.append(new_line)\n",
    "                \n",
    "    def process_lines(self, character_objects): \n",
    "        #Variables to store each characters data:\n",
    "\n",
    "        current_character = None\n",
    "\n",
    "        for line in self.lines:\n",
    "\n",
    "            #ASSIGN current_character if line contains just character name\n",
    "            if line.strip().upper() == line.strip(): \n",
    "                current_character = None\n",
    "                for character_object in character_objects:\n",
    "                    if line.strip().lower() in character_object.names:\n",
    "                        current_character = character_object \n",
    "\n",
    "            #ASSIGN LINES TO current_character\n",
    "            #~~~~LENGTH OF DIALOGUE LINES VARY FROM SCRIPT TO SCRIPT\n",
    "            elif current_character and len(line.strip()) < 40  and line.upper() != line: #dialogue lines are short\n",
    "                current_character.add_line(line)\n",
    "                #print current_character.names, line\n",
    "\n",
    "            #NULL current_character on anything else other than empty line\n",
    "            elif line.strip() != \"\": \n",
    "                current_character = None\n",
    "\n",
    "        return character_objects\n"
   ]
  },
  {
   "cell_type": "code",
   "execution_count": 20,
   "metadata": {
    "collapsed": false,
    "deletable": true,
    "editable": true
   },
   "outputs": [],
   "source": [
    "for (i, url) in enumerate(urls):\n",
    "    movie_number = i + 1\n",
    "    movie = MovieScript(urls[0], movie_number)\n",
    "    movie.get_script()\n",
    "    movie.get_lines()\n",
    "    character_objects = [Character(character_names, movie_number) for character_names in characters]\n",
    "    character_objects = movie.process_lines(character_objects)\n",
    "\n",
    "    for character_object in character_objects:\n",
    "        character_object.get_wordcount_and_string_all_words()\n",
    "        character_object.process_words()\n",
    "        character_object.save_lines_in_csv()"
   ]
  },
  {
   "cell_type": "code",
   "execution_count": 21,
   "metadata": {
    "collapsed": false,
    "deletable": true,
    "editable": true
   },
   "outputs": [
    {
     "name": "stdout",
     "output_type": "stream",
     "text": [
      "['You do not come from the forest.', 'Your hearts beat like... men.', 'Hagrid has never sent men into our', 'hollow before.', \"That's a lie! Hagrid never opend\", 'the Chamber of Secrets!', 'The monster was born in the', 'castle. I came from a distant', 'land, in the pocket of a traveler.', 'We do not speak of it! It is an', 'ancient creature we spiders fear', 'above all others.', 'I never saw any part of the castle', 'but the cupboard in which Hagrid', 'kept me. The girl was discovered', 'in a bathroom. When I was', 'accused, Hagrid brought me here.', 'Go? I think not. My sons and', 'daughters do not harm Hagrid, on', 'my command. But I cannot deny', 'them fresh meat when it wanders so', 'willingly into our midst.', 'Goodbye, friend of Hagrid.']\n"
     ]
    }
   ],
   "source": [
    "print character_objects[0].lines"
   ]
  },
  {
   "cell_type": "code",
   "execution_count": null,
   "metadata": {
    "collapsed": true,
    "deletable": true,
    "editable": true
   },
   "outputs": [],
   "source": []
  }
 ],
 "metadata": {
  "anaconda-cloud": {},
  "kernelspec": {
   "display_name": "Python 2",
   "language": "python",
   "name": "python2"
  },
  "language_info": {
   "codemirror_mode": {
    "name": "ipython",
    "version": 2
   },
   "file_extension": ".py",
   "mimetype": "text/x-python",
   "name": "python",
   "nbconvert_exporter": "python",
   "pygments_lexer": "ipython2",
   "version": "2.7.12"
  }
 },
 "nbformat": 4,
 "nbformat_minor": 1
}
